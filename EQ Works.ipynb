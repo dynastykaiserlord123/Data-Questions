{
 "cells": [
  {
   "cell_type": "code",
   "execution_count": 1,
   "metadata": {},
   "outputs": [],
   "source": [
    "import numpy as np\n",
    "import pandas as pd\n",
    "data = pd.read_csv('Data/DataSample.csv')"
   ]
  },
  {
   "cell_type": "code",
   "execution_count": 2,
   "metadata": {},
   "outputs": [
    {
     "data": {
      "text/html": [
       "<div>\n",
       "<style scoped>\n",
       "    .dataframe tbody tr th:only-of-type {\n",
       "        vertical-align: middle;\n",
       "    }\n",
       "\n",
       "    .dataframe tbody tr th {\n",
       "        vertical-align: top;\n",
       "    }\n",
       "\n",
       "    .dataframe thead th {\n",
       "        text-align: right;\n",
       "    }\n",
       "</style>\n",
       "<table border=\"1\" class=\"dataframe\">\n",
       "  <thead>\n",
       "    <tr style=\"text-align: right;\">\n",
       "      <th></th>\n",
       "      <th>_ID</th>\n",
       "      <th>TimeSt</th>\n",
       "      <th>Country</th>\n",
       "      <th>Province</th>\n",
       "      <th>City</th>\n",
       "      <th>Latitude</th>\n",
       "      <th>Longitude</th>\n",
       "    </tr>\n",
       "  </thead>\n",
       "  <tbody>\n",
       "    <tr>\n",
       "      <td>0</td>\n",
       "      <td>4516516</td>\n",
       "      <td>2017-06-21 00:00:00.143</td>\n",
       "      <td>CA</td>\n",
       "      <td>ON</td>\n",
       "      <td>Waterloo</td>\n",
       "      <td>43.49347</td>\n",
       "      <td>-80.49123</td>\n",
       "    </tr>\n",
       "    <tr>\n",
       "      <td>1</td>\n",
       "      <td>4516547</td>\n",
       "      <td>2017-06-21 18:00:00.193</td>\n",
       "      <td>CA</td>\n",
       "      <td>ON</td>\n",
       "      <td>London</td>\n",
       "      <td>42.93990</td>\n",
       "      <td>-81.27090</td>\n",
       "    </tr>\n",
       "    <tr>\n",
       "      <td>2</td>\n",
       "      <td>4516550</td>\n",
       "      <td>2017-06-21 15:00:00.287</td>\n",
       "      <td>CA</td>\n",
       "      <td>ON</td>\n",
       "      <td>Guelph</td>\n",
       "      <td>43.57760</td>\n",
       "      <td>-80.22010</td>\n",
       "    </tr>\n",
       "    <tr>\n",
       "      <td>3</td>\n",
       "      <td>4516600</td>\n",
       "      <td>2017-06-21 15:00:00.307</td>\n",
       "      <td>CA</td>\n",
       "      <td>ON</td>\n",
       "      <td>Stratford</td>\n",
       "      <td>43.37160</td>\n",
       "      <td>-80.97730</td>\n",
       "    </tr>\n",
       "    <tr>\n",
       "      <td>4</td>\n",
       "      <td>4516613</td>\n",
       "      <td>2017-06-21 15:00:00.497</td>\n",
       "      <td>CA</td>\n",
       "      <td>ON</td>\n",
       "      <td>Stratford</td>\n",
       "      <td>43.37160</td>\n",
       "      <td>-80.97730</td>\n",
       "    </tr>\n",
       "  </tbody>\n",
       "</table>\n",
       "</div>"
      ],
      "text/plain": [
       "       _ID                   TimeSt Country Province       City  Latitude  \\\n",
       "0  4516516  2017-06-21 00:00:00.143      CA       ON   Waterloo  43.49347   \n",
       "1  4516547  2017-06-21 18:00:00.193      CA       ON     London  42.93990   \n",
       "2  4516550  2017-06-21 15:00:00.287      CA       ON     Guelph  43.57760   \n",
       "3  4516600  2017-06-21 15:00:00.307      CA       ON  Stratford  43.37160   \n",
       "4  4516613  2017-06-21 15:00:00.497      CA       ON  Stratford  43.37160   \n",
       "\n",
       "   Longitude  \n",
       "0  -80.49123  \n",
       "1  -81.27090  \n",
       "2  -80.22010  \n",
       "3  -80.97730  \n",
       "4  -80.97730  "
      ]
     },
     "execution_count": 2,
     "metadata": {},
     "output_type": "execute_result"
    }
   ],
   "source": [
    "data.head()"
   ]
  },
  {
   "cell_type": "code",
   "execution_count": 3,
   "metadata": {},
   "outputs": [],
   "source": [
    "data['Latitude'] = data['Latitude'].astype(str)\n",
    "data['Longitude'] = data['Longitude'].astype(str)"
   ]
  },
  {
   "cell_type": "code",
   "execution_count": 4,
   "metadata": {},
   "outputs": [],
   "source": [
    "data['geoInfoTS'] = data['Latitude'] + data['Longitude'] + data[' TimeSt']"
   ]
  },
  {
   "cell_type": "code",
   "execution_count": 5,
   "metadata": {},
   "outputs": [],
   "source": [
    "data=data.drop_duplicates(subset='geoInfoTS', keep=\"first\").drop(columns=['geoInfoTS'])"
   ]
  },
  {
   "cell_type": "code",
   "execution_count": 6,
   "metadata": {},
   "outputs": [],
   "source": [
    "dataPOI = pd.read_csv('Data/POIList.csv')"
   ]
  },
  {
   "cell_type": "code",
   "execution_count": 7,
   "metadata": {},
   "outputs": [
    {
     "data": {
      "text/html": [
       "<div>\n",
       "<style scoped>\n",
       "    .dataframe tbody tr th:only-of-type {\n",
       "        vertical-align: middle;\n",
       "    }\n",
       "\n",
       "    .dataframe tbody tr th {\n",
       "        vertical-align: top;\n",
       "    }\n",
       "\n",
       "    .dataframe thead th {\n",
       "        text-align: right;\n",
       "    }\n",
       "</style>\n",
       "<table border=\"1\" class=\"dataframe\">\n",
       "  <thead>\n",
       "    <tr style=\"text-align: right;\">\n",
       "      <th></th>\n",
       "      <th>POIID</th>\n",
       "      <th>Latitude</th>\n",
       "      <th>Longitude</th>\n",
       "    </tr>\n",
       "  </thead>\n",
       "  <tbody>\n",
       "    <tr>\n",
       "      <td>0</td>\n",
       "      <td>POI1</td>\n",
       "      <td>53.546167</td>\n",
       "      <td>-113.485734</td>\n",
       "    </tr>\n",
       "    <tr>\n",
       "      <td>1</td>\n",
       "      <td>POI2</td>\n",
       "      <td>53.546167</td>\n",
       "      <td>-113.485734</td>\n",
       "    </tr>\n",
       "    <tr>\n",
       "      <td>2</td>\n",
       "      <td>POI3</td>\n",
       "      <td>45.521629</td>\n",
       "      <td>-73.566024</td>\n",
       "    </tr>\n",
       "    <tr>\n",
       "      <td>3</td>\n",
       "      <td>POI4</td>\n",
       "      <td>45.224830</td>\n",
       "      <td>-63.232729</td>\n",
       "    </tr>\n",
       "  </tbody>\n",
       "</table>\n",
       "</div>"
      ],
      "text/plain": [
       "  POIID   Latitude   Longitude\n",
       "0  POI1  53.546167 -113.485734\n",
       "1  POI2  53.546167 -113.485734\n",
       "2  POI3  45.521629  -73.566024\n",
       "3  POI4  45.224830  -63.232729"
      ]
     },
     "execution_count": 7,
     "metadata": {},
     "output_type": "execute_result"
    }
   ],
   "source": [
    "dataPOI.head()"
   ]
  },
  {
   "cell_type": "code",
   "execution_count": 8,
   "metadata": {},
   "outputs": [
    {
     "name": "stderr",
     "output_type": "stream",
     "text": [
      "C:\\Users\\James\\Anaconda3\\lib\\site-packages\\ipykernel_launcher.py:1: SettingWithCopyWarning: \n",
      "A value is trying to be set on a copy of a slice from a DataFrame\n",
      "\n",
      "See the caveats in the documentation: http://pandas.pydata.org/pandas-docs/stable/user_guide/indexing.html#returning-a-view-versus-a-copy\n",
      "  \"\"\"Entry point for launching an IPython kernel.\n"
     ]
    }
   ],
   "source": [
    "dataPOI['POIID'][1] = 'POI1/POI2'\n",
    "dataPOI=dataPOI.drop([0])\n",
    "#Since POI1 and POI2 have the exact same coordinates, it doesn't make sense to keep both as it's redundant"
   ]
  },
  {
   "cell_type": "code",
   "execution_count": 9,
   "metadata": {},
   "outputs": [
    {
     "data": {
      "text/html": [
       "<div>\n",
       "<style scoped>\n",
       "    .dataframe tbody tr th:only-of-type {\n",
       "        vertical-align: middle;\n",
       "    }\n",
       "\n",
       "    .dataframe tbody tr th {\n",
       "        vertical-align: top;\n",
       "    }\n",
       "\n",
       "    .dataframe thead th {\n",
       "        text-align: right;\n",
       "    }\n",
       "</style>\n",
       "<table border=\"1\" class=\"dataframe\">\n",
       "  <thead>\n",
       "    <tr style=\"text-align: right;\">\n",
       "      <th></th>\n",
       "      <th>POIID</th>\n",
       "      <th>Latitude</th>\n",
       "      <th>Longitude</th>\n",
       "    </tr>\n",
       "  </thead>\n",
       "  <tbody>\n",
       "    <tr>\n",
       "      <td>1</td>\n",
       "      <td>POI1/POI2</td>\n",
       "      <td>53.546167</td>\n",
       "      <td>-113.485734</td>\n",
       "    </tr>\n",
       "    <tr>\n",
       "      <td>2</td>\n",
       "      <td>POI3</td>\n",
       "      <td>45.521629</td>\n",
       "      <td>-73.566024</td>\n",
       "    </tr>\n",
       "    <tr>\n",
       "      <td>3</td>\n",
       "      <td>POI4</td>\n",
       "      <td>45.224830</td>\n",
       "      <td>-63.232729</td>\n",
       "    </tr>\n",
       "  </tbody>\n",
       "</table>\n",
       "</div>"
      ],
      "text/plain": [
       "       POIID   Latitude   Longitude\n",
       "1  POI1/POI2  53.546167 -113.485734\n",
       "2       POI3  45.521629  -73.566024\n",
       "3       POI4  45.224830  -63.232729"
      ]
     },
     "execution_count": 9,
     "metadata": {},
     "output_type": "execute_result"
    }
   ],
   "source": [
    "dataPOI.head()"
   ]
  },
  {
   "cell_type": "code",
   "execution_count": 10,
   "metadata": {},
   "outputs": [],
   "source": [
    "dataPOI['point'] = [(x, y) for x,y in zip(dataPOI['Latitude'], dataPOI['Longitude'])]"
   ]
  },
  {
   "cell_type": "code",
   "execution_count": 11,
   "metadata": {},
   "outputs": [],
   "source": [
    "data['point'] = [(x, y) for x,y in zip(data['Latitude'], data['Longitude'])]"
   ]
  },
  {
   "cell_type": "code",
   "execution_count": 12,
   "metadata": {},
   "outputs": [],
   "source": [
    "#Gets the geometric distance for each point to its closest POI\n",
    "from scipy.spatial.distance import cdist\n",
    "def closest(point, points):\n",
    "    return points[cdist([point], points).argmin()]\n",
    "\n",
    "def match(df, col1, x, col2):\n",
    "    return df[df[col1] == x][col2].values[0]"
   ]
  },
  {
   "cell_type": "code",
   "execution_count": 13,
   "metadata": {},
   "outputs": [],
   "source": [
    "data['closest'] = [closest(x, list(dataPOI['point'])) for x in data['point']]\n",
    "data['zone'] = [match(dataPOI, 'point', x, 'POIID') for x in data['closest']]"
   ]
  },
  {
   "cell_type": "code",
   "execution_count": 14,
   "metadata": {},
   "outputs": [],
   "source": [
    "data12 = data[data['zone']=='POI1/POI2']\n",
    "data3 = data[data['zone']=='POI3']\n",
    "data4 = data[data['zone']=='POI4']"
   ]
  },
  {
   "cell_type": "code",
   "execution_count": 15,
   "metadata": {},
   "outputs": [
    {
     "name": "stderr",
     "output_type": "stream",
     "text": [
      "C:\\Users\\James\\Anaconda3\\lib\\site-packages\\ipykernel_launcher.py:2: SettingWithCopyWarning: \n",
      "A value is trying to be set on a copy of a slice from a DataFrame.\n",
      "Try using .loc[row_indexer,col_indexer] = value instead\n",
      "\n",
      "See the caveats in the documentation: http://pandas.pydata.org/pandas-docs/stable/user_guide/indexing.html#returning-a-view-versus-a-copy\n",
      "  \n",
      "C:\\Users\\James\\Anaconda3\\lib\\site-packages\\ipykernel_launcher.py:3: SettingWithCopyWarning: \n",
      "A value is trying to be set on a copy of a slice from a DataFrame.\n",
      "Try using .loc[row_indexer,col_indexer] = value instead\n",
      "\n",
      "See the caveats in the documentation: http://pandas.pydata.org/pandas-docs/stable/user_guide/indexing.html#returning-a-view-versus-a-copy\n",
      "  This is separate from the ipykernel package so we can avoid doing imports until\n",
      "C:\\Users\\James\\Anaconda3\\lib\\site-packages\\ipykernel_launcher.py:4: SettingWithCopyWarning: \n",
      "A value is trying to be set on a copy of a slice from a DataFrame.\n",
      "Try using .loc[row_indexer,col_indexer] = value instead\n",
      "\n",
      "See the caveats in the documentation: http://pandas.pydata.org/pandas-docs/stable/user_guide/indexing.html#returning-a-view-versus-a-copy\n",
      "  after removing the cwd from sys.path.\n",
      "C:\\Users\\James\\Anaconda3\\lib\\site-packages\\ipykernel_launcher.py:5: SettingWithCopyWarning: \n",
      "A value is trying to be set on a copy of a slice from a DataFrame.\n",
      "Try using .loc[row_indexer,col_indexer] = value instead\n",
      "\n",
      "See the caveats in the documentation: http://pandas.pydata.org/pandas-docs/stable/user_guide/indexing.html#returning-a-view-versus-a-copy\n",
      "  \"\"\"\n",
      "C:\\Users\\James\\Anaconda3\\lib\\site-packages\\ipykernel_launcher.py:6: SettingWithCopyWarning: \n",
      "A value is trying to be set on a copy of a slice from a DataFrame.\n",
      "Try using .loc[row_indexer,col_indexer] = value instead\n",
      "\n",
      "See the caveats in the documentation: http://pandas.pydata.org/pandas-docs/stable/user_guide/indexing.html#returning-a-view-versus-a-copy\n",
      "  \n",
      "C:\\Users\\James\\Anaconda3\\lib\\site-packages\\ipykernel_launcher.py:7: SettingWithCopyWarning: \n",
      "A value is trying to be set on a copy of a slice from a DataFrame.\n",
      "Try using .loc[row_indexer,col_indexer] = value instead\n",
      "\n",
      "See the caveats in the documentation: http://pandas.pydata.org/pandas-docs/stable/user_guide/indexing.html#returning-a-view-versus-a-copy\n",
      "  import sys\n"
     ]
    }
   ],
   "source": [
    "import numpy as np\n",
    "data12['POILong'] = -113.485734\n",
    "data12['POILat'] = 53.546167\n",
    "data3['POILong'] = -73.566024\n",
    "data3['POILat'] = 45.521629\n",
    "data4['POILong'] = -63.232729\n",
    "data4['POILat'] = 45.224830"
   ]
  },
  {
   "cell_type": "code",
   "execution_count": 16,
   "metadata": {},
   "outputs": [
    {
     "data": {
      "text/html": [
       "<div>\n",
       "<style scoped>\n",
       "    .dataframe tbody tr th:only-of-type {\n",
       "        vertical-align: middle;\n",
       "    }\n",
       "\n",
       "    .dataframe tbody tr th {\n",
       "        vertical-align: top;\n",
       "    }\n",
       "\n",
       "    .dataframe thead th {\n",
       "        text-align: right;\n",
       "    }\n",
       "</style>\n",
       "<table border=\"1\" class=\"dataframe\">\n",
       "  <thead>\n",
       "    <tr style=\"text-align: right;\">\n",
       "      <th></th>\n",
       "      <th>_ID</th>\n",
       "      <th>TimeSt</th>\n",
       "      <th>Country</th>\n",
       "      <th>Province</th>\n",
       "      <th>City</th>\n",
       "      <th>Latitude</th>\n",
       "      <th>Longitude</th>\n",
       "      <th>point</th>\n",
       "      <th>closest</th>\n",
       "      <th>zone</th>\n",
       "      <th>POILong</th>\n",
       "      <th>POILat</th>\n",
       "    </tr>\n",
       "  </thead>\n",
       "  <tbody>\n",
       "    <tr>\n",
       "      <td>0</td>\n",
       "      <td>4516516</td>\n",
       "      <td>2017-06-21 00:00:00.143</td>\n",
       "      <td>CA</td>\n",
       "      <td>ON</td>\n",
       "      <td>Waterloo</td>\n",
       "      <td>43.49347</td>\n",
       "      <td>-80.49123</td>\n",
       "      <td>(43.49347, -80.49123)</td>\n",
       "      <td>(45.521629, -73.566024)</td>\n",
       "      <td>POI3</td>\n",
       "      <td>-73.566024</td>\n",
       "      <td>45.521629</td>\n",
       "    </tr>\n",
       "    <tr>\n",
       "      <td>1</td>\n",
       "      <td>4516547</td>\n",
       "      <td>2017-06-21 18:00:00.193</td>\n",
       "      <td>CA</td>\n",
       "      <td>ON</td>\n",
       "      <td>London</td>\n",
       "      <td>42.9399</td>\n",
       "      <td>-81.2709</td>\n",
       "      <td>(42.9399, -81.2709)</td>\n",
       "      <td>(45.521629, -73.566024)</td>\n",
       "      <td>POI3</td>\n",
       "      <td>-73.566024</td>\n",
       "      <td>45.521629</td>\n",
       "    </tr>\n",
       "    <tr>\n",
       "      <td>2</td>\n",
       "      <td>4516550</td>\n",
       "      <td>2017-06-21 15:00:00.287</td>\n",
       "      <td>CA</td>\n",
       "      <td>ON</td>\n",
       "      <td>Guelph</td>\n",
       "      <td>43.5776</td>\n",
       "      <td>-80.2201</td>\n",
       "      <td>(43.5776, -80.2201)</td>\n",
       "      <td>(45.521629, -73.566024)</td>\n",
       "      <td>POI3</td>\n",
       "      <td>-73.566024</td>\n",
       "      <td>45.521629</td>\n",
       "    </tr>\n",
       "    <tr>\n",
       "      <td>3</td>\n",
       "      <td>4516600</td>\n",
       "      <td>2017-06-21 15:00:00.307</td>\n",
       "      <td>CA</td>\n",
       "      <td>ON</td>\n",
       "      <td>Stratford</td>\n",
       "      <td>43.3716</td>\n",
       "      <td>-80.9773</td>\n",
       "      <td>(43.3716, -80.9773)</td>\n",
       "      <td>(45.521629, -73.566024)</td>\n",
       "      <td>POI3</td>\n",
       "      <td>-73.566024</td>\n",
       "      <td>45.521629</td>\n",
       "    </tr>\n",
       "    <tr>\n",
       "      <td>4</td>\n",
       "      <td>4516613</td>\n",
       "      <td>2017-06-21 15:00:00.497</td>\n",
       "      <td>CA</td>\n",
       "      <td>ON</td>\n",
       "      <td>Stratford</td>\n",
       "      <td>43.3716</td>\n",
       "      <td>-80.9773</td>\n",
       "      <td>(43.3716, -80.9773)</td>\n",
       "      <td>(45.521629, -73.566024)</td>\n",
       "      <td>POI3</td>\n",
       "      <td>-73.566024</td>\n",
       "      <td>45.521629</td>\n",
       "    </tr>\n",
       "  </tbody>\n",
       "</table>\n",
       "</div>"
      ],
      "text/plain": [
       "       _ID                   TimeSt Country Province       City  Latitude  \\\n",
       "0  4516516  2017-06-21 00:00:00.143      CA       ON   Waterloo  43.49347   \n",
       "1  4516547  2017-06-21 18:00:00.193      CA       ON     London   42.9399   \n",
       "2  4516550  2017-06-21 15:00:00.287      CA       ON     Guelph   43.5776   \n",
       "3  4516600  2017-06-21 15:00:00.307      CA       ON  Stratford   43.3716   \n",
       "4  4516613  2017-06-21 15:00:00.497      CA       ON  Stratford   43.3716   \n",
       "\n",
       "   Longitude                  point                  closest  zone    POILong  \\\n",
       "0  -80.49123  (43.49347, -80.49123)  (45.521629, -73.566024)  POI3 -73.566024   \n",
       "1   -81.2709    (42.9399, -81.2709)  (45.521629, -73.566024)  POI3 -73.566024   \n",
       "2   -80.2201    (43.5776, -80.2201)  (45.521629, -73.566024)  POI3 -73.566024   \n",
       "3   -80.9773    (43.3716, -80.9773)  (45.521629, -73.566024)  POI3 -73.566024   \n",
       "4   -80.9773    (43.3716, -80.9773)  (45.521629, -73.566024)  POI3 -73.566024   \n",
       "\n",
       "      POILat  \n",
       "0  45.521629  \n",
       "1  45.521629  \n",
       "2  45.521629  \n",
       "3  45.521629  \n",
       "4  45.521629  "
      ]
     },
     "execution_count": 16,
     "metadata": {},
     "output_type": "execute_result"
    }
   ],
   "source": [
    "data3.head()"
   ]
  },
  {
   "cell_type": "code",
   "execution_count": 17,
   "metadata": {},
   "outputs": [
    {
     "name": "stderr",
     "output_type": "stream",
     "text": [
      "C:\\Users\\James\\Anaconda3\\lib\\site-packages\\ipykernel_launcher.py:2: SettingWithCopyWarning: \n",
      "A value is trying to be set on a copy of a slice from a DataFrame.\n",
      "Try using .loc[row_indexer,col_indexer] = value instead\n",
      "\n",
      "See the caveats in the documentation: http://pandas.pydata.org/pandas-docs/stable/user_guide/indexing.html#returning-a-view-versus-a-copy\n",
      "  \n",
      "C:\\Users\\James\\Anaconda3\\lib\\site-packages\\ipykernel_launcher.py:3: SettingWithCopyWarning: \n",
      "A value is trying to be set on a copy of a slice from a DataFrame.\n",
      "Try using .loc[row_indexer,col_indexer] = value instead\n",
      "\n",
      "See the caveats in the documentation: http://pandas.pydata.org/pandas-docs/stable/user_guide/indexing.html#returning-a-view-versus-a-copy\n",
      "  This is separate from the ipykernel package so we can avoid doing imports until\n",
      "C:\\Users\\James\\Anaconda3\\lib\\site-packages\\ipykernel_launcher.py:4: SettingWithCopyWarning: \n",
      "A value is trying to be set on a copy of a slice from a DataFrame.\n",
      "Try using .loc[row_indexer,col_indexer] = value instead\n",
      "\n",
      "See the caveats in the documentation: http://pandas.pydata.org/pandas-docs/stable/user_guide/indexing.html#returning-a-view-versus-a-copy\n",
      "  after removing the cwd from sys.path.\n",
      "C:\\Users\\James\\Anaconda3\\lib\\site-packages\\ipykernel_launcher.py:5: SettingWithCopyWarning: \n",
      "A value is trying to be set on a copy of a slice from a DataFrame.\n",
      "Try using .loc[row_indexer,col_indexer] = value instead\n",
      "\n",
      "See the caveats in the documentation: http://pandas.pydata.org/pandas-docs/stable/user_guide/indexing.html#returning-a-view-versus-a-copy\n",
      "  \"\"\"\n",
      "C:\\Users\\James\\Anaconda3\\lib\\site-packages\\ipykernel_launcher.py:6: SettingWithCopyWarning: \n",
      "A value is trying to be set on a copy of a slice from a DataFrame.\n",
      "Try using .loc[row_indexer,col_indexer] = value instead\n",
      "\n",
      "See the caveats in the documentation: http://pandas.pydata.org/pandas-docs/stable/user_guide/indexing.html#returning-a-view-versus-a-copy\n",
      "  \n",
      "C:\\Users\\James\\Anaconda3\\lib\\site-packages\\ipykernel_launcher.py:8: SettingWithCopyWarning: \n",
      "A value is trying to be set on a copy of a slice from a DataFrame.\n",
      "Try using .loc[row_indexer,col_indexer] = value instead\n",
      "\n",
      "See the caveats in the documentation: http://pandas.pydata.org/pandas-docs/stable/user_guide/indexing.html#returning-a-view-versus-a-copy\n",
      "  \n",
      "C:\\Users\\James\\Anaconda3\\lib\\site-packages\\ipykernel_launcher.py:9: SettingWithCopyWarning: \n",
      "A value is trying to be set on a copy of a slice from a DataFrame.\n",
      "Try using .loc[row_indexer,col_indexer] = value instead\n",
      "\n",
      "See the caveats in the documentation: http://pandas.pydata.org/pandas-docs/stable/user_guide/indexing.html#returning-a-view-versus-a-copy\n",
      "  if __name__ == '__main__':\n",
      "C:\\Users\\James\\Anaconda3\\lib\\site-packages\\ipykernel_launcher.py:10: SettingWithCopyWarning: \n",
      "A value is trying to be set on a copy of a slice from a DataFrame.\n",
      "Try using .loc[row_indexer,col_indexer] = value instead\n",
      "\n",
      "See the caveats in the documentation: http://pandas.pydata.org/pandas-docs/stable/user_guide/indexing.html#returning-a-view-versus-a-copy\n",
      "  # Remove the CWD from sys.path while we load stuff.\n",
      "C:\\Users\\James\\Anaconda3\\lib\\site-packages\\ipykernel_launcher.py:11: SettingWithCopyWarning: \n",
      "A value is trying to be set on a copy of a slice from a DataFrame.\n",
      "Try using .loc[row_indexer,col_indexer] = value instead\n",
      "\n",
      "See the caveats in the documentation: http://pandas.pydata.org/pandas-docs/stable/user_guide/indexing.html#returning-a-view-versus-a-copy\n",
      "  # This is added back by InteractiveShellApp.init_path()\n",
      "C:\\Users\\James\\Anaconda3\\lib\\site-packages\\ipykernel_launcher.py:12: SettingWithCopyWarning: \n",
      "A value is trying to be set on a copy of a slice from a DataFrame.\n",
      "Try using .loc[row_indexer,col_indexer] = value instead\n",
      "\n",
      "See the caveats in the documentation: http://pandas.pydata.org/pandas-docs/stable/user_guide/indexing.html#returning-a-view-versus-a-copy\n",
      "  if sys.path[0] == '':\n",
      "C:\\Users\\James\\Anaconda3\\lib\\site-packages\\ipykernel_launcher.py:14: SettingWithCopyWarning: \n",
      "A value is trying to be set on a copy of a slice from a DataFrame.\n",
      "Try using .loc[row_indexer,col_indexer] = value instead\n",
      "\n",
      "See the caveats in the documentation: http://pandas.pydata.org/pandas-docs/stable/user_guide/indexing.html#returning-a-view-versus-a-copy\n",
      "  \n",
      "C:\\Users\\James\\Anaconda3\\lib\\site-packages\\ipykernel_launcher.py:15: SettingWithCopyWarning: \n",
      "A value is trying to be set on a copy of a slice from a DataFrame.\n",
      "Try using .loc[row_indexer,col_indexer] = value instead\n",
      "\n",
      "See the caveats in the documentation: http://pandas.pydata.org/pandas-docs/stable/user_guide/indexing.html#returning-a-view-versus-a-copy\n",
      "  from ipykernel import kernelapp as app\n",
      "C:\\Users\\James\\Anaconda3\\lib\\site-packages\\ipykernel_launcher.py:16: SettingWithCopyWarning: \n",
      "A value is trying to be set on a copy of a slice from a DataFrame.\n",
      "Try using .loc[row_indexer,col_indexer] = value instead\n",
      "\n",
      "See the caveats in the documentation: http://pandas.pydata.org/pandas-docs/stable/user_guide/indexing.html#returning-a-view-versus-a-copy\n",
      "  app.launch_new_instance()\n",
      "C:\\Users\\James\\Anaconda3\\lib\\site-packages\\ipykernel_launcher.py:17: SettingWithCopyWarning: \n",
      "A value is trying to be set on a copy of a slice from a DataFrame.\n",
      "Try using .loc[row_indexer,col_indexer] = value instead\n",
      "\n",
      "See the caveats in the documentation: http://pandas.pydata.org/pandas-docs/stable/user_guide/indexing.html#returning-a-view-versus-a-copy\n",
      "C:\\Users\\James\\Anaconda3\\lib\\site-packages\\ipykernel_launcher.py:18: SettingWithCopyWarning: \n",
      "A value is trying to be set on a copy of a slice from a DataFrame.\n",
      "Try using .loc[row_indexer,col_indexer] = value instead\n",
      "\n",
      "See the caveats in the documentation: http://pandas.pydata.org/pandas-docs/stable/user_guide/indexing.html#returning-a-view-versus-a-copy\n"
     ]
    }
   ],
   "source": [
    "#Calculating the geometric distance between each point and its closest POI\n",
    "data12['POILat'] = data12['POILat'].astype(float)\n",
    "data12['POILong'] = data12['POILong'].astype(float)\n",
    "data12['Latitude'] = data12['Latitude'].astype(float)\n",
    "data12['Longitude'] = data12['Longitude'].astype(float)\n",
    "data12['distance'] = np.sqrt(np.square(data12['Latitude'] - data12['POILat']) + np.square(data12['Longitude'] - data12['POILong']))\n",
    "\n",
    "data3['POILat'] = data3['POILat'].astype(float)\n",
    "data3['POILong'] = data3['POILong'].astype(float)\n",
    "data3['Latitude'] = data3['Latitude'].astype(float)\n",
    "data3['Longitude'] = data3['Longitude'].astype(float)\n",
    "data3['distance'] = np.sqrt(np.square(data3['Latitude'] - data3['POILat']) + np.square(data3['Longitude'] - data3['POILong']))\n",
    "\n",
    "data4['POILat'] = data4['POILat'].astype(float)\n",
    "data4['POILong'] = data4['POILong'].astype(float)\n",
    "data4['Latitude'] = data4['Latitude'].astype(float)\n",
    "data4['Longitude'] = data4['Longitude'].astype(float)\n",
    "data4['distance'] = np.sqrt(np.square(data4['Latitude'] - data4['POILat']) + np.square(data4['Longitude'] - data4['POILong']))"
   ]
  },
  {
   "cell_type": "code",
   "execution_count": 18,
   "metadata": {},
   "outputs": [],
   "source": [
    "#Computing the average and maximu distances and variance for each point and its closest POI\n",
    "import math\n",
    "average12 = np.average(data12['distance'])\n",
    "average3 = np.average(data3['distance'])\n",
    "average4 = np.average(data4['distance'])\n",
    "std12 = math.sqrt(np.var(data12['distance']))\n",
    "std3 = math.sqrt(np.var(data3['distance']))\n",
    "std4 = math.sqrt(np.var(data4['distance']))\n",
    "max12 = np.max(data12['distance'])\n",
    "max3 = np.max(data3['distance'])\n",
    "max4 = np.max(data4['distance'])"
   ]
  },
  {
   "cell_type": "code",
   "execution_count": 19,
   "metadata": {},
   "outputs": [
    {
     "name": "stdout",
     "output_type": "stream",
     "text": [
      "3.348183006325603\n"
     ]
    }
   ],
   "source": [
    "print(average12)"
   ]
  },
  {
   "cell_type": "code",
   "execution_count": 20,
   "metadata": {},
   "outputs": [
    {
     "name": "stdout",
     "output_type": "stream",
     "text": [
      "5.537950830488869\n"
     ]
    }
   ],
   "source": [
    "print(average3)"
   ]
  },
  {
   "cell_type": "code",
   "execution_count": 21,
   "metadata": {},
   "outputs": [
    {
     "name": "stdout",
     "output_type": "stream",
     "text": [
      "8.810410862715694\n"
     ]
    }
   ],
   "source": [
    "print(average4)"
   ]
  },
  {
   "cell_type": "code",
   "execution_count": 22,
   "metadata": {},
   "outputs": [
    {
     "name": "stdout",
     "output_type": "stream",
     "text": [
      "3.858290634210257\n"
     ]
    }
   ],
   "source": [
    "print(std12)"
   ]
  },
  {
   "cell_type": "code",
   "execution_count": 23,
   "metadata": {},
   "outputs": [
    {
     "name": "stdout",
     "output_type": "stream",
     "text": [
      "2.858544126885262\n"
     ]
    }
   ],
   "source": [
    "print(std3)"
   ]
  },
  {
   "cell_type": "code",
   "execution_count": 24,
   "metadata": {},
   "outputs": [
    {
     "name": "stdout",
     "output_type": "stream",
     "text": [
      "28.645491884351284\n"
     ]
    }
   ],
   "source": [
    "print(std4)"
   ]
  },
  {
   "cell_type": "code",
   "execution_count": 25,
   "metadata": {},
   "outputs": [
    {
     "data": {
      "text/plain": [
       "<Figure size 640x480 with 1 Axes>"
      ]
     },
     "metadata": {},
     "output_type": "display_data"
    },
    {
     "data": {
      "text/plain": [
       "<Figure size 640x480 with 1 Axes>"
      ]
     },
     "metadata": {},
     "output_type": "display_data"
    }
   ],
   "source": [
    "import matplotlib.pyplot as plt\n",
    "(x4,y4) = (data4['Longitude'], data4['Latitude'])\n",
    "plt.scatter(x4,y4, color='r')\n",
    "plt.xlim(-63.232729-max4,  -63.232729+max4)\n",
    "plt.ylim(45.22483-max4, 45.22483+max4)\n",
    "circle1 = plt.Circle((-63.232729, 45.22483), max4, color='r')\n",
    "fig, ax = plt.subplots()\n",
    "ax.add_artist(circle1)\n",
    "ax.set_xlim((-63.232729-max4, -63.232729+max4))\n",
    "ax.set_ylim((45.22483-max4, 45.22483+max4))\n",
    "plt.show()"
   ]
  },
  {
   "cell_type": "code",
   "execution_count": 26,
   "metadata": {},
   "outputs": [
    {
     "data": {
      "image/png": "[encoded data removed]",
      "text/plain": [
       "<Figure size 432x288 with 1 Axes>"
      ]
     },
     "metadata": {
      "needs_background": "light"
     },
     "output_type": "display_data"
    },
    {
     "data": {
      "image/png": "[encoded data removed]",
      "text/plain": [
       "<Figure size 432x288 with 1 Axes>"
      ]
     },
     "metadata": {
      "needs_background": "light"
     },
     "output_type": "display_data"
    }
   ],
   "source": [
    "(x12,y12) = (data12['Longitude'], data12['Latitude'])\n",
    "plt.scatter(x12,y12, color='g')\n",
    "plt.xlim(-140-max12, -90+max12)\n",
    "plt.ylim(48-max12, 64+max12)\n",
    "circle1 = plt.Circle((-113.485734, 53.546167), max12, color='g')\n",
    "fig, ax = plt.subplots()\n",
    "ax.add_artist(circle1)\n",
    "ax.set_xlim((-140-max12, -90+max12))\n",
    "ax.set_ylim((48-max12, 64+max12))\n",
    "plt.show()"
   ]
  },
  {
   "cell_type": "code",
   "execution_count": 27,
   "metadata": {},
   "outputs": [
    {
     "name": "stdout",
     "output_type": "stream",
     "text": [
      "192.7049913074258 24.851937229893878 20.155377791591437\n"
     ]
    }
   ],
   "source": [
    "print (max4,max12,max3)"
   ]
  },
  {
   "cell_type": "code",
   "execution_count": 28,
   "metadata": {},
   "outputs": [
    {
     "data": {
      "image/png": "[encoded data removed]",
      "text/plain": [
       "<Figure size 432x288 with 1 Axes>"
      ]
     },
     "metadata": {
      "needs_background": "light"
     },
     "output_type": "display_data"
    },
    {
     "data": {
      "image/png": "[encoded data removed]",
      "text/plain": [
       "<Figure size 432x288 with 1 Axes>"
      ]
     },
     "metadata": {
      "needs_background": "light"
     },
     "output_type": "display_data"
    }
   ],
   "source": [
    "(x3,y3) = (data3['Longitude'], data3['Latitude'])\n",
    "plt.scatter(x3,y3, color='b')\n",
    "plt.xlim(-95-max3,  -65+max3)\n",
    "plt.ylim(42-max3, 52+max3)\n",
    "circle1 = plt.Circle((-73.566024, 45.521629), max3, color='b')\n",
    "fig, ax = plt.subplots()\n",
    "ax.add_artist(circle1)\n",
    "ax.set_xlim((-95-max3, -65+max3))\n",
    "ax.set_ylim((42-max3, 52+max3))\n",
    "plt.show()"
   ]
  },
  {
   "cell_type": "code",
   "execution_count": 29,
   "metadata": {},
   "outputs": [
    {
     "name": "stdout",
     "output_type": "stream",
     "text": [
      "<bound method DataFrame.count of            _ID                   TimeSt Country Province       City  Latitude  \\\n",
      "172    4525101  2017-06-21 09:00:07.253      CA       SK  Saskatoon  52.12250   \n",
      "179    4525479  2017-06-21 10:00:14.537      CA       AB   Edmonton  53.42688   \n",
      "180    4525558  2017-06-21 14:00:18.667      CA       SK  Saskatoon  52.12250   \n",
      "181    4525589  2017-06-21 07:00:20.893      CA       AB    Calgary  51.14140   \n",
      "182    4525612  2017-06-21 08:00:20.943      CA       AB   Edmonton  53.58700   \n",
      "...        ...                      ...     ...      ...        ...       ...   \n",
      "22012  5614446  2017-06-21 07:22:53.747      CA       AB    Calgary  51.04505   \n",
      "22014  5614515  2017-06-21 03:22:54.680      CA       AB   Red Deer  52.26940   \n",
      "22015  5614548  2017-06-21 00:22:57.103      CA       AB   Red Deer  52.26510   \n",
      "22016  5614566  2017-06-21 08:22:56.953      CA       BC  Vancouver  49.26460   \n",
      "22019  5614760  2017-06-21 08:23:01.793      CA       AB    Calgary  51.02093   \n",
      "\n",
      "       Longitude                             point  \\\n",
      "172   -106.72488             (52.1225, -106.72488)   \n",
      "179   -113.47175  (53.426880000000004, -113.47175)   \n",
      "180   -106.72488             (52.1225, -106.72488)   \n",
      "181   -114.07600               (51.1414, -114.076)   \n",
      "182   -113.44100                (53.587, -113.441)   \n",
      "...          ...                               ...   \n",
      "22012 -114.09047            (51.04505, -114.09047)   \n",
      "22014 -113.76900               (52.2694, -113.769)   \n",
      "22015 -113.79400               (52.2651, -113.794)   \n",
      "22016 -123.10000                 (49.2646, -123.1)   \n",
      "22019 -114.10621            (51.02093, -114.10621)   \n",
      "\n",
      "                                         closest       zone     POILong  \\\n",
      "172    (53.546167000000004, -113.48573400000001)  POI1/POI2 -113.485734   \n",
      "179    (53.546167000000004, -113.48573400000001)  POI1/POI2 -113.485734   \n",
      "180    (53.546167000000004, -113.48573400000001)  POI1/POI2 -113.485734   \n",
      "181    (53.546167000000004, -113.48573400000001)  POI1/POI2 -113.485734   \n",
      "182    (53.546167000000004, -113.48573400000001)  POI1/POI2 -113.485734   \n",
      "...                                          ...        ...         ...   \n",
      "22012  (53.546167000000004, -113.48573400000001)  POI1/POI2 -113.485734   \n",
      "22014  (53.546167000000004, -113.48573400000001)  POI1/POI2 -113.485734   \n",
      "22015  (53.546167000000004, -113.48573400000001)  POI1/POI2 -113.485734   \n",
      "22016  (53.546167000000004, -113.48573400000001)  POI1/POI2 -113.485734   \n",
      "22019  (53.546167000000004, -113.48573400000001)  POI1/POI2 -113.485734   \n",
      "\n",
      "          POILat   distance  \n",
      "172    53.546167   6.909123  \n",
      "179    53.546167   0.120104  \n",
      "180    53.546167   6.909123  \n",
      "181    53.546167   2.476150  \n",
      "182    53.546167   0.060568  \n",
      "...          ...        ...  \n",
      "22012  53.546167   2.573187  \n",
      "22014  53.546167   1.307813  \n",
      "22015  53.546167   1.317634  \n",
      "22016  53.546167  10.524539  \n",
      "22019  53.546167   2.600349  \n",
      "\n",
      "[9698 rows x 13 columns]> <bound method DataFrame.count of            _ID                   TimeSt Country Province              City  \\\n",
      "0      4516516  2017-06-21 00:00:00.143      CA       ON          Waterloo   \n",
      "1      4516547  2017-06-21 18:00:00.193      CA       ON            London   \n",
      "2      4516550  2017-06-21 15:00:00.287      CA       ON            Guelph   \n",
      "3      4516600  2017-06-21 15:00:00.307      CA       ON         Stratford   \n",
      "4      4516613  2017-06-21 15:00:00.497      CA       ON         Stratford   \n",
      "...        ...                      ...     ...      ...               ...   \n",
      "22018  5614689  2017-06-21 13:23:01.370      CA       ON            London   \n",
      "22020  5614801  2017-06-21 12:23:07.880      CA       ON  Saint Catharines   \n",
      "22022  5614909  2017-06-21 00:23:07.903      CA       ON            Whitby   \n",
      "22023  5614912  2017-06-21 11:23:07.953      CA       ON          Oakville   \n",
      "22024  5615006  2017-06-21 17:23:08.033      CA       ON          Oakville   \n",
      "\n",
      "       Latitude  Longitude                  point                  closest  \\\n",
      "0      43.49347  -80.49123  (43.49347, -80.49123)  (45.521629, -73.566024)   \n",
      "1      42.93990  -81.27090    (42.9399, -81.2709)  (45.521629, -73.566024)   \n",
      "2      43.57760  -80.22010    (43.5776, -80.2201)  (45.521629, -73.566024)   \n",
      "3      43.37160  -80.97730    (43.3716, -80.9773)  (45.521629, -73.566024)   \n",
      "4      43.37160  -80.97730    (43.3716, -80.9773)  (45.521629, -73.566024)   \n",
      "...         ...        ...                    ...                      ...   \n",
      "22018  42.96110  -81.24310    (42.9611, -81.2431)  (45.521629, -73.566024)   \n",
      "22020  43.16440  -79.24560    (43.1644, -79.2456)  (45.521629, -73.566024)   \n",
      "22022  43.88730  -78.94220    (43.8873, -78.9422)  (45.521629, -73.566024)   \n",
      "22023  43.49340  -79.71260    (43.4934, -79.7126)  (45.521629, -73.566024)   \n",
      "22024  43.43090  -79.77670    (43.4309, -79.7767)  (45.521629, -73.566024)   \n",
      "\n",
      "       zone    POILong     POILat  distance  \n",
      "0      POI3 -73.566024  45.521629  7.216087  \n",
      "1      POI3 -73.566024  45.521629  8.125912  \n",
      "2      POI3 -73.566024  45.521629  6.932242  \n",
      "3      POI3 -73.566024  45.521629  7.716841  \n",
      "4      POI3 -73.566024  45.521629  7.716841  \n",
      "...     ...        ...        ...       ...  \n",
      "22018  POI3 -73.566024  45.521629  8.092824  \n",
      "22020  POI3 -73.566024  45.521629  6.149318  \n",
      "22022  POI3 -73.566024  45.521629  5.619101  \n",
      "22023  POI3 -73.566024  45.521629  6.472566  \n",
      "22024  POI3 -73.566024  45.521629  6.553140  \n",
      "\n",
      "[9817 rows x 13 columns]> <bound method DataFrame.count of            _ID                   TimeSt Country Province           City  \\\n",
      "284    4530820  2017-06-21 00:00:39.023      CA       NB        Moncton   \n",
      "371    4535155  2017-06-21 02:00:54.937      CA       NB    Fredericton   \n",
      "403    4536873  2017-06-21 01:01:07.147      CA       NS       Elmsdale   \n",
      "434    4538348  2017-06-21 11:01:08.107      CA       NS  New Waterford   \n",
      "435    4538400  2017-06-21 20:01:08.260      CA       NS  New Waterford   \n",
      "...        ...                      ...     ...      ...            ...   \n",
      "21914  5609963  2017-06-21 01:22:29.770      CA       NS        Halifax   \n",
      "21918  5610158  2017-06-21 00:22:37.700      CA       ON        Toronto   \n",
      "21964  5612336  2017-06-21 14:22:50.413      CA       NS     Antigonish   \n",
      "21967  5612443  2017-06-21 13:22:53.050      CA       ON        Toronto   \n",
      "21975  5612839  2017-06-21 01:22:52.897      CA       ON        Toronto   \n",
      "\n",
      "       Latitude  Longitude                                      point  \\\n",
      "284    46.11830  -64.73380                        (46.1183, -64.7338)   \n",
      "371    45.93460  -66.63230                        (45.9346, -66.6323)   \n",
      "403    44.97537  -63.49725                      (44.97537, -63.49725)   \n",
      "434    46.24920  -60.08810                        (46.2492, -60.0881)   \n",
      "435    46.24920  -60.08810                        (46.2492, -60.0881)   \n",
      "...         ...        ...                                        ...   \n",
      "21914  44.69880  -63.66400                         (44.6988, -63.664)   \n",
      "21918  35.80762   51.50209                       (35.80762, 51.50209)   \n",
      "21964  45.69906  -62.04134  (45.699059999999996, -62.041340000000005)   \n",
      "21967  35.80762   51.50209                       (35.80762, 51.50209)   \n",
      "21975  35.80762   51.50209                       (35.80762, 51.50209)   \n",
      "\n",
      "                               closest  zone    POILong    POILat    distance  \n",
      "284    (45.22483, -63.232729000000006)  POI4 -63.232729  45.22483    1.746855  \n",
      "371    (45.22483, -63.232729000000006)  POI4 -63.232729  45.22483    3.472874  \n",
      "403    (45.22483, -63.232729000000006)  POI4 -63.232729  45.22483    0.363595  \n",
      "434    (45.22483, -63.232729000000006)  POI4 -63.232729  45.22483    3.307269  \n",
      "435    (45.22483, -63.232729000000006)  POI4 -63.232729  45.22483    3.307269  \n",
      "...                                ...   ...        ...       ...         ...  \n",
      "21914  (45.22483, -63.232729000000006)  POI4 -63.232729  45.22483    0.680222  \n",
      "21918  (45.22483, -63.232729000000006)  POI4 -63.232729  45.22483  115.120643  \n",
      "21964  (45.22483, -63.232729000000006)  POI4 -63.232729  45.22483    1.282303  \n",
      "21967  (45.22483, -63.232729000000006)  POI4 -63.232729  45.22483  115.120643  \n",
      "21975  (45.22483, -63.232729000000006)  POI4 -63.232729  45.22483  115.120643  \n",
      "\n",
      "[484 rows x 13 columns]>\n"
     ]
    }
   ],
   "source": [
    "print (data12.count, data3.count, data4.count)"
   ]
  },
  {
   "cell_type": "code",
   "execution_count": 30,
   "metadata": {},
   "outputs": [
    {
     "name": "stdout",
     "output_type": "stream",
     "text": [
      "4.998179064154918 7.692137385787865 0.004148676408923476\n"
     ]
    }
   ],
   "source": [
    "#Calculating the density of data within each dataset\n",
    "density12 = 9698/(math.pi*max12*max12)\n",
    "density3 = 9817/(math.pi*max3*max3)\n",
    "density4 = 484/(math.pi*max4*max4)\n",
    "print (density12, density3, density4)"
   ]
  },
  {
   "cell_type": "code",
   "execution_count": 31,
   "metadata": {},
   "outputs": [
    {
     "data": {
      "image/png": "[encoded data removed]",
      "text/plain": [
       "<Figure size 432x288 with 1 Axes>"
      ]
     },
     "metadata": {
      "needs_background": "light"
     },
     "output_type": "display_data"
    }
   ],
   "source": [
    "plt.hist(np.hstack(data12['distance']))\n",
    "plt.show()"
   ]
  },
  {
   "cell_type": "code",
   "execution_count": 32,
   "metadata": {},
   "outputs": [
    {
     "data": {
      "image/png": "[encoded data removed]",
      "text/plain": [
       "<Figure size 432x288 with 1 Axes>"
      ]
     },
     "metadata": {
      "needs_background": "light"
     },
     "output_type": "display_data"
    }
   ],
   "source": [
    "plt.hist(np.hstack(data3['distance']))\n",
    "plt.show()"
   ]
  },
  {
   "cell_type": "code",
   "execution_count": 33,
   "metadata": {},
   "outputs": [
    {
     "data": {
      "image/png": "[encoded data removed]",
      "text/plain": [
       "<Figure size 432x288 with 1 Axes>"
      ]
     },
     "metadata": {
      "needs_background": "light"
     },
     "output_type": "display_data"
    }
   ],
   "source": [
    "plt.hist(np.hstack(data4['distance']))\n",
    "plt.show()"
   ]
  },
  {
   "cell_type": "code",
   "execution_count": 34,
   "metadata": {},
   "outputs": [],
   "source": [
    "#Now let's create a copy of the data and for each data point find its distance to each of the POIs. Remember that since the first 2 POIs have the same coordinates, we'll be treating them as a single entity\n",
    "dataCopy = data.drop(columns=['point', 'closest', 'zone'])\n",
    "dataCopy['Latitude'] = data['Latitude'].astype(float)\n",
    "dataCopy['Longitude'] = data['Longitude'].astype(float)\n",
    "dataCopy['distanceFromPOI12'] = np.sqrt(np.square(dataCopy['Latitude']-53.546167) + np.square(dataCopy['Longitude']+113.485734))\n",
    "dataCopy['distanceFromPOI3'] = np.sqrt(np.square(dataCopy['Latitude']-45.521629) + np.square(dataCopy['Longitude']+73.566024))\n",
    "dataCopy['distanceFromPOI4'] = np.sqrt(np.square(dataCopy['Latitude']-45.224830) + np.square(dataCopy['Longitude']+63.232729))"
   ]
  },
  {
   "cell_type": "code",
   "execution_count": 35,
   "metadata": {},
   "outputs": [
    {
     "data": {
      "text/html": [
       "<div>\n",
       "<style scoped>\n",
       "    .dataframe tbody tr th:only-of-type {\n",
       "        vertical-align: middle;\n",
       "    }\n",
       "\n",
       "    .dataframe tbody tr th {\n",
       "        vertical-align: top;\n",
       "    }\n",
       "\n",
       "    .dataframe thead th {\n",
       "        text-align: right;\n",
       "    }\n",
       "</style>\n",
       "<table border=\"1\" class=\"dataframe\">\n",
       "  <thead>\n",
       "    <tr style=\"text-align: right;\">\n",
       "      <th></th>\n",
       "      <th>_ID</th>\n",
       "      <th>TimeSt</th>\n",
       "      <th>Country</th>\n",
       "      <th>Province</th>\n",
       "      <th>City</th>\n",
       "      <th>Latitude</th>\n",
       "      <th>Longitude</th>\n",
       "      <th>distanceFromPOI12</th>\n",
       "      <th>distanceFromPOI3</th>\n",
       "      <th>distanceFromPOI4</th>\n",
       "    </tr>\n",
       "  </thead>\n",
       "  <tbody>\n",
       "    <tr>\n",
       "      <td>0</td>\n",
       "      <td>4516516</td>\n",
       "      <td>2017-06-21 00:00:00.143</td>\n",
       "      <td>CA</td>\n",
       "      <td>ON</td>\n",
       "      <td>Waterloo</td>\n",
       "      <td>43.49347</td>\n",
       "      <td>-80.49123</td>\n",
       "      <td>34.491941</td>\n",
       "      <td>7.216087</td>\n",
       "      <td>17.345128</td>\n",
       "    </tr>\n",
       "    <tr>\n",
       "      <td>1</td>\n",
       "      <td>4516547</td>\n",
       "      <td>2017-06-21 18:00:00.193</td>\n",
       "      <td>CA</td>\n",
       "      <td>ON</td>\n",
       "      <td>London</td>\n",
       "      <td>42.93990</td>\n",
       "      <td>-81.27090</td>\n",
       "      <td>33.915902</td>\n",
       "      <td>8.125912</td>\n",
       "      <td>18.182313</td>\n",
       "    </tr>\n",
       "    <tr>\n",
       "      <td>2</td>\n",
       "      <td>4516550</td>\n",
       "      <td>2017-06-21 15:00:00.287</td>\n",
       "      <td>CA</td>\n",
       "      <td>ON</td>\n",
       "      <td>Guelph</td>\n",
       "      <td>43.57760</td>\n",
       "      <td>-80.22010</td>\n",
       "      <td>34.727147</td>\n",
       "      <td>6.932242</td>\n",
       "      <td>17.067048</td>\n",
       "    </tr>\n",
       "    <tr>\n",
       "      <td>3</td>\n",
       "      <td>4516600</td>\n",
       "      <td>2017-06-21 15:00:00.307</td>\n",
       "      <td>CA</td>\n",
       "      <td>ON</td>\n",
       "      <td>Stratford</td>\n",
       "      <td>43.37160</td>\n",
       "      <td>-80.97730</td>\n",
       "      <td>34.063472</td>\n",
       "      <td>7.716841</td>\n",
       "      <td>17.841084</td>\n",
       "    </tr>\n",
       "    <tr>\n",
       "      <td>4</td>\n",
       "      <td>4516613</td>\n",
       "      <td>2017-06-21 15:00:00.497</td>\n",
       "      <td>CA</td>\n",
       "      <td>ON</td>\n",
       "      <td>Stratford</td>\n",
       "      <td>43.37160</td>\n",
       "      <td>-80.97730</td>\n",
       "      <td>34.063472</td>\n",
       "      <td>7.716841</td>\n",
       "      <td>17.841084</td>\n",
       "    </tr>\n",
       "  </tbody>\n",
       "</table>\n",
       "</div>"
      ],
      "text/plain": [
       "       _ID                   TimeSt Country Province       City  Latitude  \\\n",
       "0  4516516  2017-06-21 00:00:00.143      CA       ON   Waterloo  43.49347   \n",
       "1  4516547  2017-06-21 18:00:00.193      CA       ON     London  42.93990   \n",
       "2  4516550  2017-06-21 15:00:00.287      CA       ON     Guelph  43.57760   \n",
       "3  4516600  2017-06-21 15:00:00.307      CA       ON  Stratford  43.37160   \n",
       "4  4516613  2017-06-21 15:00:00.497      CA       ON  Stratford  43.37160   \n",
       "\n",
       "   Longitude  distanceFromPOI12  distanceFromPOI3  distanceFromPOI4  \n",
       "0  -80.49123          34.491941          7.216087         17.345128  \n",
       "1  -81.27090          33.915902          8.125912         18.182313  \n",
       "2  -80.22010          34.727147          6.932242         17.067048  \n",
       "3  -80.97730          34.063472          7.716841         17.841084  \n",
       "4  -80.97730          34.063472          7.716841         17.841084  "
      ]
     },
     "execution_count": 35,
     "metadata": {},
     "output_type": "execute_result"
    }
   ],
   "source": [
    "dataCopy.head()"
   ]
  },
  {
   "cell_type": "code",
   "execution_count": null,
   "metadata": {},
   "outputs": [],
   "source": []
  }
 ],
 "metadata": {
  "kernelspec": {
   "display_name": "Python 3",
   "language": "python",
   "name": "python3"
  },
  "language_info": {
   "codemirror_mode": {
    "name": "ipython",
    "version": 3
   },
   "file_extension": ".py",
   "mimetype": "text/x-python",
   "name": "python",
   "nbconvert_exporter": "python",
   "pygments_lexer": "ipython3",
   "version": "3.7.4"
  }
 },
 "nbformat": 4,
 "nbformat_minor": 2
}
